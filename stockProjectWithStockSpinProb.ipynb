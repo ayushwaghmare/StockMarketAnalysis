{
 "cells": [
  {
   "cell_type": "code",
   "execution_count": 1,
   "id": "86935a01",
   "metadata": {},
   "outputs": [],
   "source": [
    "import pandas_datareader.data as web\n",
    "import pandas as pd\n",
    "import datetime\n",
    "import matplotlib.pyplot as plt\n",
    "import numpy as np"
   ]
  },
  {
   "cell_type": "code",
   "execution_count": 2,
   "id": "d83a9765",
   "metadata": {},
   "outputs": [
    {
     "name": "stdout",
     "output_type": "stream",
     "text": [
      "2021-01-01 00:00:00\n"
     ]
    }
   ],
   "source": [
    "start_date=datetime.datetime(2021,1,1)\n",
    "end_date=datetime.datetime(2021,6,1)\n",
    "print(start_date)"
   ]
  },
  {
   "cell_type": "code",
   "execution_count": 3,
   "id": "d4db66c3",
   "metadata": {},
   "outputs": [],
   "source": [
    "tata=web.DataReader('TTM','yahoo',start_date,end_date)"
   ]
  },
  {
   "cell_type": "code",
   "execution_count": 4,
   "id": "5980fb64",
   "metadata": {},
   "outputs": [
    {
     "data": {
      "text/plain": [
       "12.760000228881836"
      ]
     },
     "execution_count": 4,
     "metadata": {},
     "output_type": "execute_result"
    }
   ],
   "source": [
    "tata[\"Close\"][1]"
   ]
  },
  {
   "cell_type": "code",
   "execution_count": 5,
   "id": "fc0a13f2",
   "metadata": {
    "scrolled": false
   },
   "outputs": [
    {
     "data": {
      "text/html": [
       "<div>\n",
       "<style scoped>\n",
       "    .dataframe tbody tr th:only-of-type {\n",
       "        vertical-align: middle;\n",
       "    }\n",
       "\n",
       "    .dataframe tbody tr th {\n",
       "        vertical-align: top;\n",
       "    }\n",
       "\n",
       "    .dataframe thead th {\n",
       "        text-align: right;\n",
       "    }\n",
       "</style>\n",
       "<table border=\"1\" class=\"dataframe\">\n",
       "  <thead>\n",
       "    <tr style=\"text-align: right;\">\n",
       "      <th></th>\n",
       "      <th>High</th>\n",
       "      <th>Low</th>\n",
       "      <th>Open</th>\n",
       "      <th>Close</th>\n",
       "      <th>Volume</th>\n",
       "      <th>Adj Close</th>\n",
       "    </tr>\n",
       "    <tr>\n",
       "      <th>Date</th>\n",
       "      <th></th>\n",
       "      <th></th>\n",
       "      <th></th>\n",
       "      <th></th>\n",
       "      <th></th>\n",
       "      <th></th>\n",
       "    </tr>\n",
       "  </thead>\n",
       "  <tbody>\n",
       "    <tr>\n",
       "      <th>2020-12-31</th>\n",
       "      <td>12.670000</td>\n",
       "      <td>12.560000</td>\n",
       "      <td>12.58</td>\n",
       "      <td>12.600000</td>\n",
       "      <td>957900</td>\n",
       "      <td>12.600000</td>\n",
       "    </tr>\n",
       "    <tr>\n",
       "      <th>2021-01-04</th>\n",
       "      <td>13.150000</td>\n",
       "      <td>12.670000</td>\n",
       "      <td>12.97</td>\n",
       "      <td>12.760000</td>\n",
       "      <td>1898200</td>\n",
       "      <td>12.760000</td>\n",
       "    </tr>\n",
       "    <tr>\n",
       "      <th>2021-01-05</th>\n",
       "      <td>13.360000</td>\n",
       "      <td>12.900000</td>\n",
       "      <td>12.93</td>\n",
       "      <td>13.300000</td>\n",
       "      <td>1802000</td>\n",
       "      <td>13.300000</td>\n",
       "    </tr>\n",
       "    <tr>\n",
       "      <th>2021-01-06</th>\n",
       "      <td>13.510000</td>\n",
       "      <td>13.230000</td>\n",
       "      <td>13.39</td>\n",
       "      <td>13.340000</td>\n",
       "      <td>1898000</td>\n",
       "      <td>13.340000</td>\n",
       "    </tr>\n",
       "    <tr>\n",
       "      <th>2021-01-07</th>\n",
       "      <td>13.470000</td>\n",
       "      <td>13.350000</td>\n",
       "      <td>13.39</td>\n",
       "      <td>13.450000</td>\n",
       "      <td>997600</td>\n",
       "      <td>13.450000</td>\n",
       "    </tr>\n",
       "    <tr>\n",
       "      <th>2021-01-08</th>\n",
       "      <td>13.700000</td>\n",
       "      <td>13.430000</td>\n",
       "      <td>13.50</td>\n",
       "      <td>13.670000</td>\n",
       "      <td>1662400</td>\n",
       "      <td>13.670000</td>\n",
       "    </tr>\n",
       "    <tr>\n",
       "      <th>2021-01-11</th>\n",
       "      <td>15.950000</td>\n",
       "      <td>15.020000</td>\n",
       "      <td>15.02</td>\n",
       "      <td>15.900000</td>\n",
       "      <td>7612300</td>\n",
       "      <td>15.900000</td>\n",
       "    </tr>\n",
       "    <tr>\n",
       "      <th>2021-01-12</th>\n",
       "      <td>16.709999</td>\n",
       "      <td>16.190001</td>\n",
       "      <td>16.24</td>\n",
       "      <td>16.549999</td>\n",
       "      <td>4770700</td>\n",
       "      <td>16.549999</td>\n",
       "    </tr>\n",
       "    <tr>\n",
       "      <th>2021-01-13</th>\n",
       "      <td>16.680000</td>\n",
       "      <td>16.080000</td>\n",
       "      <td>16.65</td>\n",
       "      <td>16.270000</td>\n",
       "      <td>2466500</td>\n",
       "      <td>16.270000</td>\n",
       "    </tr>\n",
       "    <tr>\n",
       "      <th>2021-01-14</th>\n",
       "      <td>16.969999</td>\n",
       "      <td>16.620001</td>\n",
       "      <td>16.68</td>\n",
       "      <td>16.889999</td>\n",
       "      <td>2041400</td>\n",
       "      <td>16.889999</td>\n",
       "    </tr>\n",
       "  </tbody>\n",
       "</table>\n",
       "</div>"
      ],
      "text/plain": [
       "                 High        Low   Open      Close   Volume  Adj Close\n",
       "Date                                                                  \n",
       "2020-12-31  12.670000  12.560000  12.58  12.600000   957900  12.600000\n",
       "2021-01-04  13.150000  12.670000  12.97  12.760000  1898200  12.760000\n",
       "2021-01-05  13.360000  12.900000  12.93  13.300000  1802000  13.300000\n",
       "2021-01-06  13.510000  13.230000  13.39  13.340000  1898000  13.340000\n",
       "2021-01-07  13.470000  13.350000  13.39  13.450000   997600  13.450000\n",
       "2021-01-08  13.700000  13.430000  13.50  13.670000  1662400  13.670000\n",
       "2021-01-11  15.950000  15.020000  15.02  15.900000  7612300  15.900000\n",
       "2021-01-12  16.709999  16.190001  16.24  16.549999  4770700  16.549999\n",
       "2021-01-13  16.680000  16.080000  16.65  16.270000  2466500  16.270000\n",
       "2021-01-14  16.969999  16.620001  16.68  16.889999  2041400  16.889999"
      ]
     },
     "execution_count": 5,
     "metadata": {},
     "output_type": "execute_result"
    }
   ],
   "source": [
    "tata.head(10)"
   ]
  },
  {
   "cell_type": "code",
   "execution_count": 6,
   "id": "187791b4",
   "metadata": {
    "scrolled": true
   },
   "outputs": [],
   "source": [
    "def FindingAllPeck(tata):\n",
    "    temp=tata['High'][0]\n",
    "    peaks=pd.DataFrame()\n",
    "    for i,row in tata.iterrows():\n",
    "        if row['High']>temp:\n",
    "            peaks=peaks.append(pd.Series({'High':row['High']},name=i))\n",
    "        temp=row['High']    \n",
    "    return peaks"
   ]
  },
  {
   "cell_type": "code",
   "execution_count": 7,
   "id": "88dd50fa",
   "metadata": {},
   "outputs": [],
   "source": [
    "def FindingAllLows(tata):\n",
    "    temp=tata['Low'][0]\n",
    "    lows=pd.DataFrame()\n",
    "    for i,row in tata.iterrows():\n",
    "        if row['Low']<temp:\n",
    "            lows=lows.append(pd.Series({'Low':row['Low']},name=i))\n",
    "        temp=row['Low']    \n",
    "    return lows"
   ]
  },
  {
   "cell_type": "code",
   "execution_count": 8,
   "id": "adc4a643",
   "metadata": {},
   "outputs": [],
   "source": [
    "def returns(tata):\n",
    "    temp=tata['Close'][0]\n",
    "    last=tata['Close'][0]\n",
    "    returns=pd.DataFrame()\n",
    "    for i,row in tata.iterrows():\n",
    "        temp=row['Close']-last\n",
    "        returns=returns.append(pd.Series({'Returns':temp},name=i))\n",
    "        last=row['Close']\n",
    "    return returns"
   ]
  },
  {
   "cell_type": "code",
   "execution_count": 9,
   "id": "515ac900",
   "metadata": {},
   "outputs": [],
   "source": [
    "#4\n",
    "def N4():\n",
    "    returns(tata).plot(figsize=(15,7))\n",
    "    plt.title('Tata Motors Limited (TTM) Percentage Returns')\n",
    "    plt.ylabel('Percentage Returns')\n",
    "    plt.xlabel('Date')\n",
    "    plt.show()\n",
    "    print('Data')\n",
    "    print(returns(tata))"
   ]
  },
  {
   "cell_type": "code",
   "execution_count": 10,
   "id": "d507fc42",
   "metadata": {},
   "outputs": [],
   "source": [
    "#3\n",
    "def N3():\n",
    "    FindingAllLows(tata).plot(figsize=(15,7))\n",
    "    plt.title('Tata Motors Limited (TTM) All Lows')\n",
    "    plt.ylabel('Stock Prices')\n",
    "    plt.xlabel('Date')\n",
    "    plt.show()\n",
    "    print('Data')\n",
    "    print(FindingAllLows(tata))"
   ]
  },
  {
   "cell_type": "code",
   "execution_count": 11,
   "id": "1a635b56",
   "metadata": {},
   "outputs": [],
   "source": [
    "#0\n",
    "def N0():\n",
    "    tata['High'].plot(label=\"Pick Price\",figsize=(15,7))\n",
    "    tata['Low'].plot(label=\"Lowest Price\")\n",
    "    tata['Open'].plot(label=\"Opening Price\")\n",
    "    tata['Close'].plot(label=\"Closeing Price\")\n",
    "    plt.legend()\n",
    "    plt.title('Tata Motors Limited (TTM)')\n",
    "    plt.ylabel('Stock Prices')\n",
    "    plt.show()"
   ]
  },
  {
   "cell_type": "code",
   "execution_count": 12,
   "id": "e0233ab2",
   "metadata": {},
   "outputs": [],
   "source": [
    "#2\n",
    "def N2():    \n",
    "    FindingAllPeck(tata).plot(figsize=(15,7))\n",
    "    plt.title('Tata Motors Limited (TTM) All Pecks')\n",
    "    plt.ylabel('Stock Prices')\n",
    "    plt.xlabel('Date')\n",
    "    plt.show()\n",
    "    print('Data')\n",
    "    print(FindingAllPeck(tata))"
   ]
  },
  {
   "cell_type": "code",
   "execution_count": 13,
   "id": "6d791ecb",
   "metadata": {},
   "outputs": [],
   "source": [
    "#1\n",
    "def N1():\n",
    "    tata['Volume'].plot(label='Volume',figsize=(15,7))\n",
    "    plt.title('Volume of Tata moters')\n",
    "    plt.show()\n",
    "    print('Data')\n",
    "    print(tata['Volume'])"
   ]
  },
  {
   "cell_type": "code",
   "execution_count": 14,
   "id": "6c5f1e09",
   "metadata": {},
   "outputs": [],
   "source": [
    "from sklearn.model_selection import train_test_split\n",
    "from sklearn.tree import DecisionTreeRegressor\n",
    "from sklearn.linear_model import LinearRegression"
   ]
  },
  {
   "cell_type": "code",
   "execution_count": 15,
   "id": "d2022343",
   "metadata": {},
   "outputs": [],
   "source": [
    "def Prediction_of_high(tata):\n",
    "    #getting High prices for Prediction\n",
    "    tata=tata[['High']]\n",
    "    \n",
    "    #making a coloumb for prediction\n",
    "    future_days=30\n",
    "    tata['Prediction']=tata[['High']].shift(-future_days)\n",
    "    #tata.head()\n",
    "    \n",
    "    #creating a feature data set (X) and convert it into numpy array and remove last 'X' rows/days\n",
    "    X=np.array(tata.drop(['Prediction'],1))[:-future_days]\n",
    "    \n",
    "    #creating a target data set y and convert it to the numpy array and get all the target values except the last 'x' rows/days\n",
    "    y=np.array(tata[\"Prediction\"])[:-future_days]\n",
    "    \n",
    "    #spliting data into 75% train and 25% test\n",
    "    x_train, x_test, y_train, y_test=train_test_split(X,y,test_size=0.25)\n",
    "    \n",
    "    #creating a Decision tree regressor model\n",
    "    tree=DecisionTreeRegressor().fit(x_train,y_train)\n",
    "    #also creating a Liner regressor model For comparision\n",
    "    lr=LinearRegression().fit(x_train,y_train)\n",
    "\n",
    "    \n",
    "    #getting last 'x' rows of predicted data set\n",
    "    x_pred=tata.drop(['Prediction'],1)[:-future_days]\n",
    "    x_pred=x_pred.tail(future_days) \n",
    "    x_pred=np.array(x_pred)\n",
    "    \n",
    "    \n",
    "    #Show the prediction\n",
    "    #tree model\n",
    "    tree_prediction=tree.predict(x_pred)\n",
    "            #print(tree_prediction)\n",
    "            #print()\n",
    "    #linear model\n",
    "    lr_prediction=lr.predict(x_pred)\n",
    "            #print(lr_prediction)\n",
    "        \n",
    "     \n",
    "    #ploting Graph of tree model prediction\n",
    "    prediction=tree_prediction\n",
    "\n",
    "    valid=tata[X.shape[0]:]\n",
    "    valid['Prediction']=prediction      #error\n",
    "    plt.figure(figsize=(15,7))\n",
    "    plt.title('Deision Tree Regresser Prediction')\n",
    "    plt.xlabel('Date')\n",
    "    plt.ylabel('High Price')\n",
    "    plt.plot(tata[\"High\"])\n",
    "    plt.plot(valid[['High','Prediction']])\n",
    "    plt.legend(['Original Price','Valid Price','Prediction'])\n",
    "    plt.show()\n",
    "    \n",
    "    print()\n",
    "    \n",
    "    #ploting Graph of linear model prediction\n",
    "    prediction=lr_prediction\n",
    "\n",
    "    valid=tata[X.shape[0]:]\n",
    "    valid['Prediction']=prediction       #error\n",
    "    plt.figure(figsize=(15,7))\n",
    "    plt.title('Linear Regression Prediction')\n",
    "    plt.xlabel('Date')\n",
    "    plt.ylabel('High Price')\n",
    "    plt.plot(tata[\"High\"])\n",
    "    plt.plot(valid[['High','Prediction']])\n",
    "    plt.legend(['Original Price','Valid Price','Prediction'])\n",
    "    plt.show()"
   ]
  },
  {
   "cell_type": "code",
   "execution_count": 16,
   "id": "913387f3",
   "metadata": {},
   "outputs": [],
   "source": [
    "#Stock Span problem \n",
    "class span:\n",
    "    def __init__(self,tata,num_of_days):\n",
    "        self.tata=tata\n",
    "        self.num_of_days=num_of_days\n",
    "    def cal_span(self):\n",
    "        sp=[None]*self.num_of_days\n",
    "        sp[0]=1\n",
    "        for i in range(1,self.num_of_days):\n",
    "            sp[i]=1\n",
    "            for j in range(i):\n",
    "                if self.tata[\"Close\"][j]<=self.tata[\"Close\"][i]:\n",
    "                    sp[i]+=1    \n",
    "        return sp            "
   ]
  },
  {
   "cell_type": "code",
   "execution_count": 18,
   "id": "39f1b7b3",
   "metadata": {
    "scrolled": false
   },
   "outputs": [
    {
     "name": "stdout",
     "output_type": "stream",
     "text": [
      "Press following number to know for Tata Motors Limited (TTM) Stocks\n",
      "0 = All in one Graph (Pick Price,Lowest Price,Opening Price,Closeing Price)\n",
      "1 = Volume\n",
      "2 = All Pecks\n",
      "3 = All Lowes\n",
      "4 = % Returns\n",
      "5 = For Predictions of High(Include two models Linear Regression and Decision Tree Regression. )\n",
      "Enter Number6\n",
      "Enter number of days you want from starting date10\n",
      "[1, 2, 3, 4, 5, 6, 7, 8, 8, 10]\n"
     ]
    }
   ],
   "source": [
    "print('Press following number to know for Tata Motors Limited (TTM) Stocks')\n",
    "print(\"0 = All in one Graph (Pick Price,Lowest Price,Opening Price,Closeing Price)\\n1 = Volume\\n2 = All Pecks\\n3 = All Lowes\\n4 = % Returns\\n5 = For Predictions of High(Include two models Linear Regression and Decision Tree Regression. )\")\n",
    "validInput=['0','1','2','3','4','5','6']      \n",
    "while True:\n",
    "    vbl=input(\"Enter Number\")\n",
    "    if vbl not in validInput:\n",
    "        print(\"Not a valid input\")\n",
    "    else:\n",
    "        break\n",
    "if vbl=='0':\n",
    "    N0()\n",
    "elif vbl=='1':\n",
    "    N1()\n",
    "elif vbl=='2':\n",
    "    N2()\n",
    "elif vbl=='3':\n",
    "    N3()    \n",
    "elif vbl=='4':\n",
    "    N4()      \n",
    "elif vbl=='5':\n",
    "    Prediction_of_high(tata)\n",
    "else:\n",
    "    num_of_days=int(input(\"Enter number of days you want from starting date\"))\n",
    "    sp=span(tata,num_of_days)\n",
    "    print(sp.cal_span())"
   ]
  },
  {
   "cell_type": "code",
   "execution_count": null,
   "id": "24a87724",
   "metadata": {},
   "outputs": [],
   "source": [
    "tata.head(20)"
   ]
  },
  {
   "cell_type": "code",
   "execution_count": null,
   "id": "61745ee0",
   "metadata": {},
   "outputs": [],
   "source": []
  }
 ],
 "metadata": {
  "kernelspec": {
   "display_name": "Python 3",
   "language": "python",
   "name": "python3"
  },
  "language_info": {
   "codemirror_mode": {
    "name": "ipython",
    "version": 3
   },
   "file_extension": ".py",
   "mimetype": "text/x-python",
   "name": "python",
   "nbconvert_exporter": "python",
   "pygments_lexer": "ipython3",
   "version": "3.8.8"
  }
 },
 "nbformat": 4,
 "nbformat_minor": 5
}
